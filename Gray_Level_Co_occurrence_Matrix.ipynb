{
  "nbformat": 4,
  "nbformat_minor": 0,
  "metadata": {
    "colab": {
      "provenance": []
    },
    "kernelspec": {
      "name": "python3",
      "display_name": "Python 3"
    },
    "language_info": {
      "name": "python"
    }
  },
  "cells": [
    {
      "cell_type": "code",
      "execution_count": 3,
      "metadata": {
        "colab": {
          "base_uri": "https://localhost:8080/"
        },
        "id": "EawjxbgTrhME",
        "outputId": "bb6f42c3-0aed-450b-86e7-2eab958d14b6"
      },
      "outputs": [
        {
          "output_type": "stream",
          "name": "stdout",
          "text": [
            "Contrast: [[40.73525602]]\n",
            "Dissimilarity: [[1.78447966]]\n",
            "Homogeneity: [[0.61833809]]\n",
            "Energy: [[0.05057642]]\n",
            "Correlation: [[0.98771711]]\n"
          ]
        }
      ],
      "source": [
        "import cv2\n",
        "import numpy as np\n",
        "import matplotlib.pyplot as plt\n",
        "from skimage.feature import graycomatrix, graycoprops\n",
        "\n",
        "# Step 1: Read the image and convert to grayscale\n",
        "img = plt.imread('flower.jpg')  # Replace with the correct path if needed\n",
        "gray = cv2.cvtColor(img, cv2.COLOR_BGR2GRAY)\n",
        "\n",
        "# Step 2: Compute the Gray Level Co-occurrence Matrix (GLCM)\n",
        "glcm = graycomatrix(gray, distances=[1], angles=[0], levels=256)\n",
        "\n",
        "# Step 3: Extract GLCM features\n",
        "contrast = graycoprops(glcm, 'contrast')\n",
        "print(\"Contrast:\", contrast)\n",
        "\n",
        "dissimilarity = graycoprops(glcm, 'dissimilarity')\n",
        "print(\"Dissimilarity:\", dissimilarity)\n",
        "\n",
        "homogeneity = graycoprops(glcm, 'homogeneity')\n",
        "print(\"Homogeneity:\", homogeneity)\n",
        "\n",
        "energy = graycoprops(glcm, 'energy')\n",
        "print(\"Energy:\", energy)\n",
        "\n",
        "correlation = graycoprops(glcm, 'correlation')\n",
        "print(\"Correlation:\", correlation)\n"
      ]
    }
  ]
}